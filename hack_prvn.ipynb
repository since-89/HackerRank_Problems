{
 "cells": [
  {
   "cell_type": "markdown",
   "id": "716a9757",
   "metadata": {},
   "source": [
    "### Problem1: Nested Lists"
   ]
  },
  {
   "cell_type": "code",
   "execution_count": 1,
   "id": "d3102029",
   "metadata": {},
   "outputs": [],
   "source": [
    "import pandas as pd\n",
    "import numpy as np"
   ]
  },
  {
   "cell_type": "code",
   "execution_count": 2,
   "id": "1c0e274f",
   "metadata": {},
   "outputs": [],
   "source": [
    "## Print the name(s) of any student(s) having the second lowest grade in. \n",
    "## If there are multiple students, order their names alphabetically and print each one on a new line.\n",
    "\n",
    "students = [['Harry', 37.21], ['Berry', 37.21], ['Tina', 37.2], ['Akriti', 41], ['Harsh', 39]]"
   ]
  },
  {
   "cell_type": "code",
   "execution_count": 3,
   "id": "0214d7b8",
   "metadata": {},
   "outputs": [
    {
     "name": "stdout",
     "output_type": "stream",
     "text": [
      "first high 37.2 2\n",
      "first high 37.2 2\n",
      "first high 37.2 2\n",
      "first high 37.2 2\n",
      "first high 37.2 2\n"
     ]
    },
    {
     "data": {
      "text/plain": [
       "[['Harry', 37.21], ['Berry', 37.21], ['Akriti', 41], ['Harsh', 39]]"
      ]
     },
     "execution_count": 3,
     "metadata": {},
     "output_type": "execute_result"
    }
   ],
   "source": [
    "for i in range(len(students)):\n",
    "    \n",
    "    low1 = students[0][1]\n",
    "    index_high = 0\n",
    "    \n",
    "    for j in range(len(students)):\n",
    "        if low1 > students[j][1]:\n",
    "            low1 = students[j][1]\n",
    "            index = j\n",
    "\n",
    "\n",
    "    print(\"first high\", low1, index)\n",
    "\n",
    "#Make a list of avoiding the highest scorer\n",
    "students1 = students.pop(index)\n",
    "\n",
    "students\n"
   ]
  },
  {
   "cell_type": "code",
   "execution_count": 4,
   "id": "31f66efe",
   "metadata": {},
   "outputs": [
    {
     "data": {
      "text/plain": [
       "[['Harry', 37.21], ['Berry', 37.21], ['Akriti', 41], ['Harsh', 39]]"
      ]
     },
     "execution_count": 4,
     "metadata": {},
     "output_type": "execute_result"
    }
   ],
   "source": [
    "students2 = students.copy()\n",
    "students2"
   ]
  },
  {
   "cell_type": "code",
   "execution_count": 5,
   "id": "6a45157d",
   "metadata": {},
   "outputs": [
    {
     "name": "stdout",
     "output_type": "stream",
     "text": [
      "first low2 37.21 0\n",
      "first low2 37.21 0\n",
      "first low2 37.21 0\n",
      "first low2 37.21 0\n"
     ]
    }
   ],
   "source": [
    "students2\n",
    "\n",
    "for i in range(len(students2)):\n",
    "    \n",
    "    low2 = students2[0][1]\n",
    "    index_low = 0\n",
    "    \n",
    "    for j in range(len(students2)):\n",
    "        if low2 > students2[j][1]:\n",
    "            low2 = students2[j][1]\n",
    "            index_low = j\n",
    "\n",
    "\n",
    "    print(\"first low2\", low2, index_low)"
   ]
  },
  {
   "cell_type": "code",
   "execution_count": 6,
   "id": "630710d2",
   "metadata": {},
   "outputs": [
    {
     "data": {
      "text/plain": [
       "['Harry', 'Berry']"
      ]
     },
     "execution_count": 6,
     "metadata": {},
     "output_type": "execute_result"
    }
   ],
   "source": [
    "students2\n",
    "\n",
    "Name_list = []\n",
    "min1 = students2[0][1]\n",
    "\n",
    "for j in range(len(students2)):\n",
    "    if students2[j][1] <= min1:\n",
    "        Name_list.append(students2[j][0])\n",
    "        \n",
    "Name_list      "
   ]
  },
  {
   "cell_type": "code",
   "execution_count": 7,
   "id": "b00579ed",
   "metadata": {},
   "outputs": [
    {
     "name": "stdout",
     "output_type": "stream",
     "text": [
      "['Berry', 'Harry']\n"
     ]
    }
   ],
   "source": [
    "#Step 3: Arrange the students in alphabetical order\n",
    "\n",
    "print(sorted(Name_list))"
   ]
  },
  {
   "cell_type": "code",
   "execution_count": 8,
   "id": "b664013b",
   "metadata": {},
   "outputs": [],
   "source": [
    "#Create a new list from the last by sending two as input\n",
    "\n",
    "\n",
    "\n",
    "# for i in range(0, 2):\n",
    "#     min1 = 0\n",
    "#     print(min1)\n",
    "min1 = 0\n",
    "for j in range(len(students2)):\n",
    "    if students2[j][1] < min1:\n",
    "        print(min1, students2[j][1])\n",
    "        min1 = students2[j][1] #get the min of the number\n",
    "        ind = j ##get the index of the highest number\n",
    "        #final_list.append(students2.pop(index)) #pop that sub-list from the big list\n",
    "        #print(final_list)\n",
    "\n",
    "            "
   ]
  },
  {
   "cell_type": "code",
   "execution_count": 10,
   "id": "f8fa4c03",
   "metadata": {},
   "outputs": [],
   "source": [
    "def Nmaxelements(list1, N):\n",
    "    final_list = []\n",
    " \n",
    "    for i in range(0, N):\n",
    "        max1 = 0\n",
    " \n",
    "        for j in range(len(list1)):\n",
    "            if list1[j] > max1:\n",
    "                max1 = list1[j]\n",
    " \n",
    "        list1.remove(max1)\n",
    "        final_list.append(max1)\n",
    " \n",
    "    print(final_list)\n",
    "\n",
    "list1 = [2, 6, 41, 85, 0, 3, 7, 6, 10]\n",
    "N = 2"
   ]
  },
  {
   "cell_type": "code",
   "execution_count": null,
   "id": "038e40a6",
   "metadata": {},
   "outputs": [],
   "source": []
  }
 ],
 "metadata": {
  "kernelspec": {
   "display_name": "Python 3 (ipykernel)",
   "language": "python",
   "name": "python3"
  },
  "language_info": {
   "codemirror_mode": {
    "name": "ipython",
    "version": 3
   },
   "file_extension": ".py",
   "mimetype": "text/x-python",
   "name": "python",
   "nbconvert_exporter": "python",
   "pygments_lexer": "ipython3",
   "version": "3.11.3"
  }
 },
 "nbformat": 4,
 "nbformat_minor": 5
}
